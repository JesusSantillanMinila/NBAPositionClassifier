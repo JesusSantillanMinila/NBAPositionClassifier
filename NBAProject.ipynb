{
  "nbformat": 4,
  "nbformat_minor": 0,
  "metadata": {
    "colab": {
      "name": "NBAProject.ipynb",
      "provenance": [],
      "collapsed_sections": []
    },
    "kernelspec": {
      "name": "python3",
      "display_name": "Python 3"
    }
  },
  "cells": [
    {
      "cell_type": "code",
      "metadata": {
        "id": "4_GtADaQscnr"
      },
      "source": [
        "#Built using Google Colab\r\n",
        "#Data from https://www.basketball-reference.com/leagues/NBA_2020_per_game.html \r\n",
        "#Data from https://www.basketball-reference.com/leagues/NBA_2019_per_game.html \r\n",
        "\r\n",
        "\r\n",
        "#Load libraries\r\n",
        "\r\n",
        "%tensorflow_version 2.x \r\n",
        "!pip install -q sklearn\r\n",
        "\r\n",
        "from __future__ import absolute_import, division, print_function, unicode_literals\r\n",
        "\r\n",
        "import numpy as np\r\n",
        "import pandas as pd\r\n",
        "import matplotlib.pyplot as plt\r\n",
        "from IPython.display import clear_output\r\n",
        "from six.moves import urllib\r\n",
        "\r\n",
        "import tensorflow.compat.v2.feature_column as fc\r\n",
        "\r\n",
        "import tensorflow as tf\r\n",
        "\r\n",
        "pd.options.display.max_columns = None\r\n",
        "import seaborn as sns\r\n",
        "import matplotlib.pyplot as plt\r\n",
        "\r\n",
        "from scipy import stats\r\n",
        "\r\n",
        "\r\n",
        "get_ipython().run_line_magic('matplotlib', 'inline')\r\n",
        "sns.set()\r\n",
        "sns.set(rc={'figure.figsize':(12, 8)})\r\n",
        "\r\n",
        "import statsmodels.api as sm\r\n",
        "\r\n",
        "import io\r\n",
        "from google.colab import files"
      ],
      "execution_count": 885,
      "outputs": []
    },
    {
      "cell_type": "code",
      "metadata": {
        "colab": {
          "resources": {
            "http://localhost:8080/nbextensions/google.colab/files.js": {
              "data": "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",
              "ok": true,
              "headers": [
                [
                  "content-type",
                  "application/javascript"
                ]
              ],
              "status": 200,
              "status_text": "OK"
            }
          },
          "base_uri": "https://localhost:8080/",
          "height": 73
        },
        "id": "z773TXzju1x7",
        "outputId": "a5586271-e795-46ef-b869-f074cfd5141c"
      },
      "source": [
        "#Upload Historical Data\r\n",
        "uploaded = files.upload()\r\n",
        "train = pd.read_csv(io.BytesIO(uploaded['NBAPrevData.csv']))"
      ],
      "execution_count": 886,
      "outputs": [
        {
          "output_type": "display_data",
          "data": {
            "text/html": [
              "\n",
              "     <input type=\"file\" id=\"files-9eb909cf-7201-4998-b661-edc6ea840fe3\" name=\"files[]\" multiple disabled\n",
              "        style=\"border:none\" />\n",
              "     <output id=\"result-9eb909cf-7201-4998-b661-edc6ea840fe3\">\n",
              "      Upload widget is only available when the cell has been executed in the\n",
              "      current browser session. Please rerun this cell to enable.\n",
              "      </output>\n",
              "      <script src=\"/nbextensions/google.colab/files.js\"></script> "
            ],
            "text/plain": [
              "<IPython.core.display.HTML object>"
            ]
          },
          "metadata": {
            "tags": []
          }
        },
        {
          "output_type": "stream",
          "text": [
            "Saving NBAPrevData.csv to NBAPrevData (17).csv\n"
          ],
          "name": "stdout"
        }
      ]
    },
    {
      "cell_type": "code",
      "metadata": {
        "colab": {
          "resources": {
            "http://localhost:8080/nbextensions/google.colab/files.js": {
              "data": "Ly8gQ29weXJpZ2h0IDIwMTcgR29vZ2xlIExMQwovLwovLyBMaWNlbnNlZCB1bmRlciB0aGUgQXBhY2hlIExpY2Vuc2UsIFZlcnNpb24gMi4wICh0aGUgIkxpY2Vuc2UiKTsKLy8geW91IG1heSBub3QgdXNlIHRoaXMgZmlsZSBleGNlcHQgaW4gY29tcGxpYW5jZSB3aXRoIHRoZSBMaWNlbnNlLgovLyBZb3UgbWF5IG9idGFpbiBhIGNvcHkgb2YgdGhlIExpY2Vuc2UgYXQKLy8KLy8gICAgICBodHRwOi8vd3d3LmFwYWNoZS5vcmcvbGljZW5zZXMvTElDRU5TRS0yLjAKLy8KLy8gVW5sZXNzIHJlcXVpcmVkIGJ5IGFwcGxpY2FibGUgbGF3IG9yIGFncmVlZCB0byBpbiB3cml0aW5nLCBzb2Z0d2FyZQovLyBkaXN0cmlidXRlZCB1bmRlciB0aGUgTGljZW5zZSBpcyBkaXN0cmlidXRlZCBvbiBhbiAiQVMgSVMiIEJBU0lTLAovLyBXSVRIT1VUIFdBUlJBTlRJRVMgT1IgQ09ORElUSU9OUyBPRiBBTlkgS0lORCwgZWl0aGVyIGV4cHJlc3Mgb3IgaW1wbGllZC4KLy8gU2VlIHRoZSBMaWNlbnNlIGZvciB0aGUgc3BlY2lmaWMgbGFuZ3VhZ2UgZ292ZXJuaW5nIHBlcm1pc3Npb25zIGFuZAovLyBsaW1pdGF0aW9ucyB1bmRlciB0aGUgTGljZW5zZS4KCi8qKgogKiBAZmlsZW92ZXJ2aWV3IEhlbHBlcnMgZm9yIGdvb2dsZS5jb2xhYiBQeXRob24gbW9kdWxlLgogKi8KKGZ1bmN0aW9uKHNjb3BlKSB7CmZ1bmN0aW9uIHNwYW4odGV4dCwgc3R5bGVBdHRyaWJ1dGVzID0ge30pIHsKICBjb25zdCBlbGVtZW50ID0gZG9jdW1lbnQuY3JlYXRlRWxlbWVudCgnc3BhbicpOwogIGVsZW1lbnQudGV4dENvbnRlbnQgPSB0ZXh0OwogIGZvciAoY29uc3Qga2V5IG9mIE9iamVjdC5rZXlzKHN0eWxlQXR0cmlidXRlcykpIHsKICAgIGVsZW1lbnQuc3R5bGVba2V5XSA9IHN0eWxlQXR0cmlidXRlc1trZXldOwogIH0KICByZXR1cm4gZWxlbWVudDsKfQoKLy8gTWF4IG51bWJlciBvZiBieXRlcyB3aGljaCB3aWxsIGJlIHVwbG9hZGVkIGF0IGEgdGltZS4KY29uc3QgTUFYX1BBWUxPQURfU0laRSA9IDEwMCAqIDEwMjQ7CgpmdW5jdGlvbiBfdXBsb2FkRmlsZXMoaW5wdXRJZCwgb3V0cHV0SWQpIHsKICBjb25zdCBzdGVwcyA9IHVwbG9hZEZpbGVzU3RlcChpbnB1dElkLCBvdXRwdXRJZCk7CiAgY29uc3Qgb3V0cHV0RWxlbWVudCA9IGRvY3VtZW50LmdldEVsZW1lbnRCeUlkKG91dHB1dElkKTsKICAvLyBDYWNoZSBzdGVwcyBvbiB0aGUgb3V0cHV0RWxlbWVudCB0byBtYWtlIGl0IGF2YWlsYWJsZSBmb3IgdGhlIG5leHQgY2FsbAogIC8vIHRvIHVwbG9hZEZpbGVzQ29udGludWUgZnJvbSBQeXRob24uCiAgb3V0cHV0RWxlbWVudC5zdGVwcyA9IHN0ZXBzOwoKICByZXR1cm4gX3VwbG9hZEZpbGVzQ29udGludWUob3V0cHV0SWQpOwp9CgovLyBUaGlzIGlzIHJvdWdobHkgYW4gYXN5bmMgZ2VuZXJhdG9yIChub3Qgc3VwcG9ydGVkIGluIHRoZSBicm93c2VyIHlldCksCi8vIHdoZXJlIHRoZXJlIGFyZSBtdWx0aXBsZSBhc3luY2hyb25vdXMgc3RlcHMgYW5kIHRoZSBQeXRob24gc2lkZSBpcyBnb2luZwovLyB0byBwb2xsIGZvciBjb21wbGV0aW9uIG9mIGVhY2ggc3RlcC4KLy8gVGhpcyB1c2VzIGEgUHJvbWlzZSB0byBibG9jayB0aGUgcHl0aG9uIHNpZGUgb24gY29tcGxldGlvbiBvZiBlYWNoIHN0ZXAsCi8vIHRoZW4gcGFzc2VzIHRoZSByZXN1bHQgb2YgdGhlIHByZXZpb3VzIHN0ZXAgYXMgdGhlIGlucHV0IHRvIHRoZSBuZXh0IHN0ZXAuCmZ1bmN0aW9uIF91cGxvYWRGaWxlc0NvbnRpbnVlKG91dHB1dElkKSB7CiAgY29uc3Qgb3V0cHV0RWxlbWVudCA9IGRvY3VtZW50LmdldEVsZW1lbnRCeUlkKG91dHB1dElkKTsKICBjb25zdCBzdGVwcyA9IG91dHB1dEVsZW1lbnQuc3RlcHM7CgogIGNvbnN0IG5leHQgPSBzdGVwcy5uZXh0KG91dHB1dEVsZW1lbnQubGFzdFByb21pc2VWYWx1ZSk7CiAgcmV0dXJuIFByb21pc2UucmVzb2x2ZShuZXh0LnZhbHVlLnByb21pc2UpLnRoZW4oKHZhbHVlKSA9PiB7CiAgICAvLyBDYWNoZSB0aGUgbGFzdCBwcm9taXNlIHZhbHVlIHRvIG1ha2UgaXQgYXZhaWxhYmxlIHRvIHRoZSBuZXh0CiAgICAvLyBzdGVwIG9mIHRoZSBnZW5lcmF0b3IuCiAgICBvdXRwdXRFbGVtZW50Lmxhc3RQcm9taXNlVmFsdWUgPSB2YWx1ZTsKICAgIHJldHVybiBuZXh0LnZhbHVlLnJlc3BvbnNlOwogIH0pOwp9CgovKioKICogR2VuZXJhdG9yIGZ1bmN0aW9uIHdoaWNoIGlzIGNhbGxlZCBiZXR3ZWVuIGVhY2ggYXN5bmMgc3RlcCBvZiB0aGUgdXBsb2FkCiAqIHByb2Nlc3MuCiAqIEBwYXJhbSB7c3RyaW5nfSBpbnB1dElkIEVsZW1lbnQgSUQgb2YgdGhlIGlucHV0IGZpbGUgcGlja2VyIGVsZW1lbnQuCiAqIEBwYXJhbSB7c3RyaW5nfSBvdXRwdXRJZCBFbGVtZW50IElEIG9mIHRoZSBvdXRwdXQgZGlzcGxheS4KICogQHJldHVybiB7IUl0ZXJhYmxlPCFPYmplY3Q+fSBJdGVyYWJsZSBvZiBuZXh0IHN0ZXBzLgogKi8KZnVuY3Rpb24qIHVwbG9hZEZpbGVzU3RlcChpbnB1dElkLCBvdXRwdXRJZCkgewogIGNvbnN0IGlucHV0RWxlbWVudCA9IGRvY3VtZW50LmdldEVsZW1lbnRCeUlkKGlucHV0SWQpOwogIGlucHV0RWxlbWVudC5kaXNhYmxlZCA9IGZhbHNlOwoKICBjb25zdCBvdXRwdXRFbGVtZW50ID0gZG9jdW1lbnQuZ2V0RWxlbWVudEJ5SWQob3V0cHV0SWQpOwogIG91dHB1dEVsZW1lbnQuaW5uZXJIVE1MID0gJyc7CgogIGNvbnN0IHBpY2tlZFByb21pc2UgPSBuZXcgUHJvbWlzZSgocmVzb2x2ZSkgPT4gewogICAgaW5wdXRFbGVtZW50LmFkZEV2ZW50TGlzdGVuZXIoJ2NoYW5nZScsIChlKSA9PiB7CiAgICAgIHJlc29sdmUoZS50YXJnZXQuZmlsZXMpOwogICAgfSk7CiAgfSk7CgogIGNvbnN0IGNhbmNlbCA9IGRvY3VtZW50LmNyZWF0ZUVsZW1lbnQoJ2J1dHRvbicpOwogIGlucHV0RWxlbWVudC5wYXJlbnRFbGVtZW50LmFwcGVuZENoaWxkKGNhbmNlbCk7CiAgY2FuY2VsLnRleHRDb250ZW50ID0gJ0NhbmNlbCB1cGxvYWQnOwogIGNvbnN0IGNhbmNlbFByb21pc2UgPSBuZXcgUHJvbWlzZSgocmVzb2x2ZSkgPT4gewogICAgY2FuY2VsLm9uY2xpY2sgPSAoKSA9PiB7CiAgICAgIHJlc29sdmUobnVsbCk7CiAgICB9OwogIH0pOwoKICAvLyBXYWl0IGZvciB0aGUgdXNlciB0byBwaWNrIHRoZSBmaWxlcy4KICBjb25zdCBmaWxlcyA9IHlpZWxkIHsKICAgIHByb21pc2U6IFByb21pc2UucmFjZShbcGlja2VkUHJvbWlzZSwgY2FuY2VsUHJvbWlzZV0pLAogICAgcmVzcG9uc2U6IHsKICAgICAgYWN0aW9uOiAnc3RhcnRpbmcnLAogICAgfQogIH07CgogIGNhbmNlbC5yZW1vdmUoKTsKCiAgLy8gRGlzYWJsZSB0aGUgaW5wdXQgZWxlbWVudCBzaW5jZSBmdXJ0aGVyIHBpY2tzIGFyZSBub3QgYWxsb3dlZC4KICBpbnB1dEVsZW1lbnQuZGlzYWJsZWQgPSB0cnVlOwoKICBpZiAoIWZpbGVzKSB7CiAgICByZXR1cm4gewogICAgICByZXNwb25zZTogewogICAgICAgIGFjdGlvbjogJ2NvbXBsZXRlJywKICAgICAgfQogICAgfTsKICB9CgogIGZvciAoY29uc3QgZmlsZSBvZiBmaWxlcykgewogICAgY29uc3QgbGkgPSBkb2N1bWVudC5jcmVhdGVFbGVtZW50KCdsaScpOwogICAgbGkuYXBwZW5kKHNwYW4oZmlsZS5uYW1lLCB7Zm9udFdlaWdodDogJ2JvbGQnfSkpOwogICAgbGkuYXBwZW5kKHNwYW4oCiAgICAgICAgYCgke2ZpbGUudHlwZSB8fCAnbi9hJ30pIC0gJHtmaWxlLnNpemV9IGJ5dGVzLCBgICsKICAgICAgICBgbGFzdCBtb2RpZmllZDogJHsKICAgICAgICAgICAgZmlsZS5sYXN0TW9kaWZpZWREYXRlID8gZmlsZS5sYXN0TW9kaWZpZWREYXRlLnRvTG9jYWxlRGF0ZVN0cmluZygpIDoKICAgICAgICAgICAgICAgICAgICAgICAgICAgICAgICAgICAgJ24vYSd9IC0gYCkpOwogICAgY29uc3QgcGVyY2VudCA9IHNwYW4oJzAlIGRvbmUnKTsKICAgIGxpLmFwcGVuZENoaWxkKHBlcmNlbnQpOwoKICAgIG91dHB1dEVsZW1lbnQuYXBwZW5kQ2hpbGQobGkpOwoKICAgIGNvbnN0IGZpbGVEYXRhUHJvbWlzZSA9IG5ldyBQcm9taXNlKChyZXNvbHZlKSA9PiB7CiAgICAgIGNvbnN0IHJlYWRlciA9IG5ldyBGaWxlUmVhZGVyKCk7CiAgICAgIHJlYWRlci5vbmxvYWQgPSAoZSkgPT4gewogICAgICAgIHJlc29sdmUoZS50YXJnZXQucmVzdWx0KTsKICAgICAgfTsKICAgICAgcmVhZGVyLnJlYWRBc0FycmF5QnVmZmVyKGZpbGUpOwogICAgfSk7CiAgICAvLyBXYWl0IGZvciB0aGUgZGF0YSB0byBiZSByZWFkeS4KICAgIGxldCBmaWxlRGF0YSA9IHlpZWxkIHsKICAgICAgcHJvbWlzZTogZmlsZURhdGFQcm9taXNlLAogICAgICByZXNwb25zZTogewogICAgICAgIGFjdGlvbjogJ2NvbnRpbnVlJywKICAgICAgfQogICAgfTsKCiAgICAvLyBVc2UgYSBjaHVua2VkIHNlbmRpbmcgdG8gYXZvaWQgbWVzc2FnZSBzaXplIGxpbWl0cy4gU2VlIGIvNjIxMTU2NjAuCiAgICBsZXQgcG9zaXRpb24gPSAwOwogICAgd2hpbGUgKHBvc2l0aW9uIDwgZmlsZURhdGEuYnl0ZUxlbmd0aCkgewogICAgICBjb25zdCBsZW5ndGggPSBNYXRoLm1pbihmaWxlRGF0YS5ieXRlTGVuZ3RoIC0gcG9zaXRpb24sIE1BWF9QQVlMT0FEX1NJWkUpOwogICAgICBjb25zdCBjaHVuayA9IG5ldyBVaW50OEFycmF5KGZpbGVEYXRhLCBwb3NpdGlvbiwgbGVuZ3RoKTsKICAgICAgcG9zaXRpb24gKz0gbGVuZ3RoOwoKICAgICAgY29uc3QgYmFzZTY0ID0gYnRvYShTdHJpbmcuZnJvbUNoYXJDb2RlLmFwcGx5KG51bGwsIGNodW5rKSk7CiAgICAgIHlpZWxkIHsKICAgICAgICByZXNwb25zZTogewogICAgICAgICAgYWN0aW9uOiAnYXBwZW5kJywKICAgICAgICAgIGZpbGU6IGZpbGUubmFtZSwKICAgICAgICAgIGRhdGE6IGJhc2U2NCwKICAgICAgICB9LAogICAgICB9OwogICAgICBwZXJjZW50LnRleHRDb250ZW50ID0KICAgICAgICAgIGAke01hdGgucm91bmQoKHBvc2l0aW9uIC8gZmlsZURhdGEuYnl0ZUxlbmd0aCkgKiAxMDApfSUgZG9uZWA7CiAgICB9CiAgfQoKICAvLyBBbGwgZG9uZS4KICB5aWVsZCB7CiAgICByZXNwb25zZTogewogICAgICBhY3Rpb246ICdjb21wbGV0ZScsCiAgICB9CiAgfTsKfQoKc2NvcGUuZ29vZ2xlID0gc2NvcGUuZ29vZ2xlIHx8IHt9OwpzY29wZS5nb29nbGUuY29sYWIgPSBzY29wZS5nb29nbGUuY29sYWIgfHwge307CnNjb3BlLmdvb2dsZS5jb2xhYi5fZmlsZXMgPSB7CiAgX3VwbG9hZEZpbGVzLAogIF91cGxvYWRGaWxlc0NvbnRpbnVlLAp9Owp9KShzZWxmKTsK",
              "ok": true,
              "headers": [
                [
                  "content-type",
                  "application/javascript"
                ]
              ],
              "status": 200,
              "status_text": "OK"
            }
          },
          "base_uri": "https://localhost:8080/",
          "height": 73
        },
        "id": "y792h3SEwx_o",
        "outputId": "f5c675c8-4854-4c54-dc06-4273a3ce5861"
      },
      "source": [
        "#Upload 2020 Data \r\n",
        "uploaded = files.upload()\r\n",
        "test =  pd.read_csv(io.BytesIO(uploaded['NBA2020Data.csv']))\r\n"
      ],
      "execution_count": 887,
      "outputs": [
        {
          "output_type": "display_data",
          "data": {
            "text/html": [
              "\n",
              "     <input type=\"file\" id=\"files-63398263-e18f-41a5-9278-37657a8eef63\" name=\"files[]\" multiple disabled\n",
              "        style=\"border:none\" />\n",
              "     <output id=\"result-63398263-e18f-41a5-9278-37657a8eef63\">\n",
              "      Upload widget is only available when the cell has been executed in the\n",
              "      current browser session. Please rerun this cell to enable.\n",
              "      </output>\n",
              "      <script src=\"/nbextensions/google.colab/files.js\"></script> "
            ],
            "text/plain": [
              "<IPython.core.display.HTML object>"
            ]
          },
          "metadata": {
            "tags": []
          }
        },
        {
          "output_type": "stream",
          "text": [
            "Saving NBA2020Data.csv to NBA2020Data (53).csv\n"
          ],
          "name": "stdout"
        }
      ]
    },
    {
      "cell_type": "code",
      "metadata": {
        "colab": {
          "base_uri": "https://localhost:8080/"
        },
        "id": "fSyzlISAgUfT",
        "outputId": "5ebc5eca-203f-4a68-99b2-67a58a806abd"
      },
      "source": [
        "train = train[train['G'] > 20] \r\n",
        "print(train.shape)\r\n",
        "test= test[test['G'] > 20]\r\n",
        "print(test.shape)"
      ],
      "execution_count": 888,
      "outputs": [
        {
          "output_type": "stream",
          "text": [
            "(4744, 30)\n",
            "(450, 30)\n"
          ],
          "name": "stdout"
        }
      ]
    },
    {
      "cell_type": "code",
      "metadata": {
        "colab": {
          "base_uri": "https://localhost:8080/"
        },
        "id": "hwCM2FER13sI",
        "outputId": "b1061094-3b5a-43d4-eab8-705ab305d781"
      },
      "source": [
        "print(train.head())\r\n",
        "print(test.head)"
      ],
      "execution_count": 889,
      "outputs": [
        {
          "output_type": "stream",
          "text": [
            "   Rk                       Player Pos  Age   Tm   G  GS      MP     FG  \\\n",
            "0   1       Álex Abrines\\abrinal01  SG   25  OKC  31   2   588.0   56.0   \n",
            "2   3       Jaylen Adams\\adamsja01  PG   22  ATL  34   1   428.0   38.0   \n",
            "3   4       Steven Adams\\adamsst01   C   25  OKC  80  80  2669.0  481.0   \n",
            "4   5        Bam Adebayo\\adebaba01   C   21  MIA  82  28  1913.0  280.0   \n",
            "7   8  LaMarcus Aldridge\\aldrila01   C   33  SAS  81  81  2687.0  684.0   \n",
            "\n",
            "      FGA    FG%    3P    3PA    3P%     2P     2PA    2P%   eFG%     FT  \\\n",
            "0   157.0  0.357  41.0  127.0  0.323   15.0    30.0  0.500  0.487   12.0   \n",
            "2   110.0  0.345  25.0   74.0  0.338   13.0    36.0  0.361  0.459    7.0   \n",
            "3   809.0  0.595   0.0    2.0  0.000  481.0   807.0  0.596  0.595  146.0   \n",
            "4   486.0  0.576   3.0   15.0  0.200  277.0   471.0  0.588  0.579  166.0   \n",
            "7  1319.0  0.519  10.0   42.0  0.238  674.0  1277.0  0.528  0.522  349.0   \n",
            "\n",
            "     FTA    FT%    ORB    DRB    TRB    AST    STL    BLK    TOV     PF  \\\n",
            "0   13.0  0.923    5.0   43.0   48.0   20.0   17.0    6.0   14.0   53.0   \n",
            "2    9.0  0.778   11.0   49.0   60.0   65.0   14.0    5.0   28.0   45.0   \n",
            "3  292.0  0.500  391.0  369.0  760.0  124.0  117.0   76.0  135.0  204.0   \n",
            "4  226.0  0.735  165.0  432.0  597.0  184.0   71.0   65.0  121.0  203.0   \n",
            "7  412.0  0.847  251.0  493.0  744.0  194.0   43.0  107.0  144.0  179.0   \n",
            "\n",
            "      PTS  \n",
            "0   165.0  \n",
            "2   108.0  \n",
            "3  1108.0  \n",
            "4   729.0  \n",
            "7  1727.0  \n",
            "<bound method NDFrame.head of       Rk                              Player Pos  Age   Tm   G  GS    MP   FG  \\\n",
            "0      1              Steven Adams\\adamsst01   C   26  OKC  63  63  1680  283   \n",
            "1      2               Bam Adebayo\\adebaba01  PF   22  MIA  72  72  2417  440   \n",
            "2      3         LaMarcus Aldridge\\aldrila01   C   34  SAS  53  53  1754  391   \n",
            "4      5  Nickeil Alexander-Walker\\alexani01  SG   21  NOP  47   1   591   98   \n",
            "5      6             Grayson Allen\\allengr01  SG   24  MEM  38   0   718  117   \n",
            "..   ...                                 ...  ..  ...  ...  ..  ..   ...  ...   \n",
            "645  524            Thaddeus Young\\youngth01  PF   31  CHI  64  16  1591  269   \n",
            "646  525                Trae Young\\youngtr01  PG   21  ATL  60  60  2120  546   \n",
            "647  526               Cody Zeller\\zelleco01   C   27  CHO  58  39  1341  251   \n",
            "649  528                Ante Žižić\\zizican01   C   23  CLE  22   0   221   41   \n",
            "650  529               Ivica Zubac\\zubaciv01   C   22  LAC  72  70  1326  236   \n",
            "\n",
            "      FGA    FG%   3P  3PA    3P%   2P  2PA    2P%   eFG%   FT  FTA    FT%  \\\n",
            "0     478  0.592    1    3  0.333  282  475  0.594  0.593  117  201  0.582   \n",
            "1     790  0.557    2   14  0.143  438  776  0.564  0.558  264  382  0.691   \n",
            "2     793  0.493   61  157  0.389  330  636  0.519  0.532  158  191  0.827   \n",
            "4     266  0.368   46  133  0.346   52  133  0.391  0.455   25   37  0.676   \n",
            "5     251  0.466   57  141  0.404   60  110  0.545  0.580   39   45  0.867   \n",
            "..    ...    ...  ...  ...    ...  ...  ...    ...    ...  ...  ...    ...   \n",
            "645   601  0.448   79  222  0.356  190  379  0.501  0.513   42   72  0.583   \n",
            "646  1249  0.437  205  568  0.361  341  681  0.501  0.519  481  559  0.860   \n",
            "647   479  0.524   18   75  0.240  233  404  0.577  0.543  122  179  0.682   \n",
            "649    72  0.569    0    0    NaN   41   72  0.569  0.569   14   19  0.737   \n",
            "650   385  0.613    0    2  0.000  236  383  0.616  0.613  124  166  0.747   \n",
            "\n",
            "     ORB  DRB  TRB  AST  STL  BLK  TOV   PF   PTS  \n",
            "0    207  376  583  146   51   67   94  122   684  \n",
            "1    176  559  735  368   82   93  204  182  1146  \n",
            "2    103  289  392  129   36   87   74  128  1001  \n",
            "4      9   75   84   89   17    8   54   57   267  \n",
            "5      8   77   85   52   10    2   33   53   330  \n",
            "..   ...  ...  ...  ...  ...  ...  ...  ...   ...  \n",
            "645   94  221  315  117   92   23  102  134   659  \n",
            "646   32  223  255  560   65    8  289  104  1778  \n",
            "647  160  251  411   88   40   25   75  140   642  \n",
            "649   18   48   66    6    7    5   10   27    96  \n",
            "650  197  346  543   82   16   66   61  168   596  \n",
            "\n",
            "[450 rows x 30 columns]>\n"
          ],
          "name": "stdout"
        }
      ]
    },
    {
      "cell_type": "code",
      "metadata": {
        "colab": {
          "base_uri": "https://localhost:8080/",
          "height": 206
        },
        "id": "pesQoE4bCtuY",
        "outputId": "93763765-2882-4a14-cb49-61f2c7763b62"
      },
      "source": [
        "# train = train.rename(columns={ '3P%': '3PP','2P%':'2PP'})\r\n",
        "\r\n",
        "# train['BLK1'] = (train['BLK']-train['BLK'].min())/(train['BLK'].max()-train['BLK'].min())/train['G']\r\n",
        "# train['TRB1'] = (train['TRB']-train['TRB'].min())/(train['TRB'].max()-train['TRB'].min())/train['G']\r\n",
        "# train['AST1'] = (train['AST']-train['AST'].min())/(train['AST'].max()-train['AST'].min())/train['G']\r\n",
        "# train['DRB1'] = (train['DRB']-train['DRB'].min())/(train['DRB'].max()-train['DRB'].min())/train['G'] \r\n",
        "# train['ORB1'] = (train['ORB']-train['ORB'].min())/(train['ORB'].max()-train['ORB'].min())/train['G']\r\n",
        "# train['STL1'] = (train['STL']-train['STL'].min())/(train['STL'].max()-train['STL'].min())/train['G']\r\n",
        "# train['STL1'] = (train['STL']-train['STL'].min())/(train['STL'].max()-train['STL'].min())/train['G']\r\n",
        "# train['FT1'] = (train['FT%']-train['FT%'].min())/(train['FT%'].max()-train['FT%'].min())/train['G']\r\n",
        "\r\n",
        "train = train.rename(columns={ '3P%': '3PP','2P%':'2PP','FT%':'FTP'})\r\n",
        "\r\n",
        "train['BLK1'] = train['BLK']/train['G']\r\n",
        "train['TRB1'] = train['TRB']/train['G']\r\n",
        "train['AST1'] = train['AST']/train['G']\r\n",
        "train['DRB1'] = train['DRB']/train['G'] \r\n",
        "train['ORB1'] = train['ORB']/train['G']\r\n",
        "train['STL1'] = train['STL']/train['G']\r\n",
        "train['STL1'] = train['STL']/train['G']\r\n",
        "\r\n",
        "\r\n",
        "train = train.drop(['Rk','2P','3P','eFG%','FT','FG%','Player','Tm','Age','G','GS','FGA','3PA','2PA','FTA','ORB','DRB','TOV','PF','MP','FG','PTS','BLK','TRB','STL','AST'], axis = 1)\r\n",
        "\r\n",
        "train = train.dropna()\r\n",
        "\r\n",
        "train.head()"
      ],
      "execution_count": 890,
      "outputs": [
        {
          "output_type": "execute_result",
          "data": {
            "text/html": [
              "<div>\n",
              "<style scoped>\n",
              "    .dataframe tbody tr th:only-of-type {\n",
              "        vertical-align: middle;\n",
              "    }\n",
              "\n",
              "    .dataframe tbody tr th {\n",
              "        vertical-align: top;\n",
              "    }\n",
              "\n",
              "    .dataframe thead th {\n",
              "        text-align: right;\n",
              "    }\n",
              "</style>\n",
              "<table border=\"1\" class=\"dataframe\">\n",
              "  <thead>\n",
              "    <tr style=\"text-align: right;\">\n",
              "      <th></th>\n",
              "      <th>Pos</th>\n",
              "      <th>3PP</th>\n",
              "      <th>2PP</th>\n",
              "      <th>FTP</th>\n",
              "      <th>BLK1</th>\n",
              "      <th>TRB1</th>\n",
              "      <th>AST1</th>\n",
              "      <th>DRB1</th>\n",
              "      <th>ORB1</th>\n",
              "      <th>STL1</th>\n",
              "    </tr>\n",
              "  </thead>\n",
              "  <tbody>\n",
              "    <tr>\n",
              "      <th>0</th>\n",
              "      <td>SG</td>\n",
              "      <td>0.323</td>\n",
              "      <td>0.500</td>\n",
              "      <td>0.923</td>\n",
              "      <td>0.193548</td>\n",
              "      <td>1.548387</td>\n",
              "      <td>0.645161</td>\n",
              "      <td>1.387097</td>\n",
              "      <td>0.161290</td>\n",
              "      <td>0.548387</td>\n",
              "    </tr>\n",
              "    <tr>\n",
              "      <th>2</th>\n",
              "      <td>PG</td>\n",
              "      <td>0.338</td>\n",
              "      <td>0.361</td>\n",
              "      <td>0.778</td>\n",
              "      <td>0.147059</td>\n",
              "      <td>1.764706</td>\n",
              "      <td>1.911765</td>\n",
              "      <td>1.441176</td>\n",
              "      <td>0.323529</td>\n",
              "      <td>0.411765</td>\n",
              "    </tr>\n",
              "    <tr>\n",
              "      <th>3</th>\n",
              "      <td>C</td>\n",
              "      <td>0.000</td>\n",
              "      <td>0.596</td>\n",
              "      <td>0.500</td>\n",
              "      <td>0.950000</td>\n",
              "      <td>9.500000</td>\n",
              "      <td>1.550000</td>\n",
              "      <td>4.612500</td>\n",
              "      <td>4.887500</td>\n",
              "      <td>1.462500</td>\n",
              "    </tr>\n",
              "    <tr>\n",
              "      <th>4</th>\n",
              "      <td>C</td>\n",
              "      <td>0.200</td>\n",
              "      <td>0.588</td>\n",
              "      <td>0.735</td>\n",
              "      <td>0.792683</td>\n",
              "      <td>7.280488</td>\n",
              "      <td>2.243902</td>\n",
              "      <td>5.268293</td>\n",
              "      <td>2.012195</td>\n",
              "      <td>0.865854</td>\n",
              "    </tr>\n",
              "    <tr>\n",
              "      <th>7</th>\n",
              "      <td>C</td>\n",
              "      <td>0.238</td>\n",
              "      <td>0.528</td>\n",
              "      <td>0.847</td>\n",
              "      <td>1.320988</td>\n",
              "      <td>9.185185</td>\n",
              "      <td>2.395062</td>\n",
              "      <td>6.086420</td>\n",
              "      <td>3.098765</td>\n",
              "      <td>0.530864</td>\n",
              "    </tr>\n",
              "  </tbody>\n",
              "</table>\n",
              "</div>"
            ],
            "text/plain": [
              "  Pos    3PP    2PP    FTP      BLK1      TRB1      AST1      DRB1      ORB1  \\\n",
              "0  SG  0.323  0.500  0.923  0.193548  1.548387  0.645161  1.387097  0.161290   \n",
              "2  PG  0.338  0.361  0.778  0.147059  1.764706  1.911765  1.441176  0.323529   \n",
              "3   C  0.000  0.596  0.500  0.950000  9.500000  1.550000  4.612500  4.887500   \n",
              "4   C  0.200  0.588  0.735  0.792683  7.280488  2.243902  5.268293  2.012195   \n",
              "7   C  0.238  0.528  0.847  1.320988  9.185185  2.395062  6.086420  3.098765   \n",
              "\n",
              "       STL1  \n",
              "0  0.548387  \n",
              "2  0.411765  \n",
              "3  1.462500  \n",
              "4  0.865854  \n",
              "7  0.530864  "
            ]
          },
          "metadata": {
            "tags": []
          },
          "execution_count": 890
        }
      ]
    },
    {
      "cell_type": "code",
      "metadata": {
        "id": "1ubzQklNEolE"
      },
      "source": [
        ""
      ],
      "execution_count": 890,
      "outputs": []
    },
    {
      "cell_type": "code",
      "metadata": {
        "colab": {
          "base_uri": "https://localhost:8080/",
          "height": 206
        },
        "id": "dpcWJ_BECwkd",
        "outputId": "b0d7fd4a-bcd0-4063-bb6a-acb3b11c3b6a"
      },
      "source": [
        "# test = test.rename(columns={'3P%': '3PP','2P%':'2PP'})\r\n",
        "\r\n",
        "# test['BLK1'] = (test['BLK']-test['BLK'].min())/(test['BLK'].max() - test['BLK'].min())/test['G']\r\n",
        "# test['TRB1'] = (test['TRB']-test['TRB'].min())/(test['TRB'].max() - test['TRB'].min())/test['G']\r\n",
        "# test['AST1'] = (test['AST']-test['AST'].min())/(test['AST'].max() - test['AST'].min())/test['G']\r\n",
        "# test['DRB1'] = (test['DRB']-test['DRB'].min())/(test['DRB'].max() - test['DRB'].min())/test['G']\r\n",
        "# test['ORB1'] = (test['ORB']-test['ORB'].min())/(test['ORB'].max() - test['ORB'].min())/test['G']\r\n",
        "# test['STL1'] = (test['STL']-test['STL'].min())/(test['STL'].max() - test['STL'].min())/test['G']\r\n",
        "# test['FT1'] = (test['FT%']-test['FT%'].min())/(test['FT%'].max() - test['FT%'].min())/test['G']\r\n",
        "\r\n",
        "test = test.rename(columns={'3P%': '3PP','2P%':'2PP','FT%':'FTP'})\r\n",
        "\r\n",
        "test['BLK1'] = test['BLK']/test['G']\r\n",
        "test['TRB1'] = test['TRB']/test['G']\r\n",
        "test['AST1'] = test['AST']/test['G']\r\n",
        "test['DRB1'] = test['DRB']/test['G']\r\n",
        "test['ORB1'] = test['ORB']/test['G']\r\n",
        "test['STL1'] = test['STL']/test['G']\r\n",
        "\r\n",
        "\r\n",
        "test = test.drop(['Rk','2P','3P','eFG%','FT','FG%','Player','Tm','Age','G','GS','FGA','3PA','2PA','FTA','ORB','DRB','TOV','PF','MP','FG','PTS','BLK','TRB','STL','AST'], axis = 1)\r\n",
        "\r\n",
        "test = test.dropna()\r\n",
        "\r\n",
        "test.head()"
      ],
      "execution_count": 892,
      "outputs": [
        {
          "output_type": "execute_result",
          "data": {
            "text/html": [
              "<div>\n",
              "<style scoped>\n",
              "    .dataframe tbody tr th:only-of-type {\n",
              "        vertical-align: middle;\n",
              "    }\n",
              "\n",
              "    .dataframe tbody tr th {\n",
              "        vertical-align: top;\n",
              "    }\n",
              "\n",
              "    .dataframe thead th {\n",
              "        text-align: right;\n",
              "    }\n",
              "</style>\n",
              "<table border=\"1\" class=\"dataframe\">\n",
              "  <thead>\n",
              "    <tr style=\"text-align: right;\">\n",
              "      <th></th>\n",
              "      <th>Pos</th>\n",
              "      <th>3PP</th>\n",
              "      <th>2PP</th>\n",
              "      <th>FTP</th>\n",
              "      <th>BLK1</th>\n",
              "      <th>TRB1</th>\n",
              "      <th>AST1</th>\n",
              "      <th>DRB1</th>\n",
              "      <th>ORB1</th>\n",
              "      <th>STL1</th>\n",
              "    </tr>\n",
              "  </thead>\n",
              "  <tbody>\n",
              "    <tr>\n",
              "      <th>0</th>\n",
              "      <td>C</td>\n",
              "      <td>0.333</td>\n",
              "      <td>0.594</td>\n",
              "      <td>0.582</td>\n",
              "      <td>1.063492</td>\n",
              "      <td>9.253968</td>\n",
              "      <td>2.317460</td>\n",
              "      <td>5.968254</td>\n",
              "      <td>3.285714</td>\n",
              "      <td>0.809524</td>\n",
              "    </tr>\n",
              "    <tr>\n",
              "      <th>1</th>\n",
              "      <td>PF</td>\n",
              "      <td>0.143</td>\n",
              "      <td>0.564</td>\n",
              "      <td>0.691</td>\n",
              "      <td>1.291667</td>\n",
              "      <td>10.208333</td>\n",
              "      <td>5.111111</td>\n",
              "      <td>7.763889</td>\n",
              "      <td>2.444444</td>\n",
              "      <td>1.138889</td>\n",
              "    </tr>\n",
              "    <tr>\n",
              "      <th>2</th>\n",
              "      <td>C</td>\n",
              "      <td>0.389</td>\n",
              "      <td>0.519</td>\n",
              "      <td>0.827</td>\n",
              "      <td>1.641509</td>\n",
              "      <td>7.396226</td>\n",
              "      <td>2.433962</td>\n",
              "      <td>5.452830</td>\n",
              "      <td>1.943396</td>\n",
              "      <td>0.679245</td>\n",
              "    </tr>\n",
              "    <tr>\n",
              "      <th>4</th>\n",
              "      <td>SG</td>\n",
              "      <td>0.346</td>\n",
              "      <td>0.391</td>\n",
              "      <td>0.676</td>\n",
              "      <td>0.170213</td>\n",
              "      <td>1.787234</td>\n",
              "      <td>1.893617</td>\n",
              "      <td>1.595745</td>\n",
              "      <td>0.191489</td>\n",
              "      <td>0.361702</td>\n",
              "    </tr>\n",
              "    <tr>\n",
              "      <th>5</th>\n",
              "      <td>SG</td>\n",
              "      <td>0.404</td>\n",
              "      <td>0.545</td>\n",
              "      <td>0.867</td>\n",
              "      <td>0.052632</td>\n",
              "      <td>2.236842</td>\n",
              "      <td>1.368421</td>\n",
              "      <td>2.026316</td>\n",
              "      <td>0.210526</td>\n",
              "      <td>0.263158</td>\n",
              "    </tr>\n",
              "  </tbody>\n",
              "</table>\n",
              "</div>"
            ],
            "text/plain": [
              "  Pos    3PP    2PP    FTP      BLK1       TRB1      AST1      DRB1      ORB1  \\\n",
              "0   C  0.333  0.594  0.582  1.063492   9.253968  2.317460  5.968254  3.285714   \n",
              "1  PF  0.143  0.564  0.691  1.291667  10.208333  5.111111  7.763889  2.444444   \n",
              "2   C  0.389  0.519  0.827  1.641509   7.396226  2.433962  5.452830  1.943396   \n",
              "4  SG  0.346  0.391  0.676  0.170213   1.787234  1.893617  1.595745  0.191489   \n",
              "5  SG  0.404  0.545  0.867  0.052632   2.236842  1.368421  2.026316  0.210526   \n",
              "\n",
              "       STL1  \n",
              "0  0.809524  \n",
              "1  1.138889  \n",
              "2  0.679245  \n",
              "4  0.361702  \n",
              "5  0.263158  "
            ]
          },
          "metadata": {
            "tags": []
          },
          "execution_count": 892
        }
      ]
    },
    {
      "cell_type": "code",
      "metadata": {
        "colab": {
          "base_uri": "https://localhost:8080/"
        },
        "id": "2VRjq0FWedcF",
        "outputId": "4dcd21c7-cdd9-4061-f405-4ef5e8b2642b"
      },
      "source": [
        "print(test['Pos'].unique())"
      ],
      "execution_count": 893,
      "outputs": [
        {
          "output_type": "stream",
          "text": [
            "['C' 'PF' 'SG' 'SF' 'PG' 'PF-SF' 'SF-SG' 'SF-C' 'SF-PF' 'PF-C' 'SG-SF'\n",
            " 'SG-PG' 'PG-SG']\n"
          ],
          "name": "stdout"
        }
      ]
    },
    {
      "cell_type": "code",
      "metadata": {
        "id": "O5-PNona7MAn"
      },
      "source": [
        "#Change names of the weekdays from numbers to actual names\r\n",
        "conditions1 = [\r\n",
        "    (train['Pos'] == 'SG'),#0\r\n",
        "    (train['Pos'] == 'PF') ,#1\r\n",
        "    (train['Pos']== 'PG') ,#2\r\n",
        "    (train['Pos'] == 'C') ,#3\r\n",
        "    (train['Pos'] == 'SF'),#4\r\n",
        "    (train['Pos'] == 'PF-SF'),#1\r\n",
        "    (train['Pos'] == 'SF-SG'),#4\r\n",
        "    (train['Pos'] == 'SG-PF'),#0\r\n",
        "    (train['Pos'] == 'C-PF'),#3\r\n",
        "    (train['Pos'] == 'SG-SF'),#0\r\n",
        "    (train['Pos'] == 'PF-C')#1\r\n",
        "    ]\r\n",
        "\r\n",
        "## create a list of the values we want to assign for each condition\r\n",
        "#values1 = [1,3,0,4,2,5,6,7,8,6,8]\r\n",
        "values1 = [0,1,2,3,4,1,4,0,3,0,1]\r\n",
        "\r\n",
        "## create a new column and use np.select to assign values to it using our lists as arguments\r\n",
        "train['Pos1'] = np.select(conditions1, values1)\r\n",
        "\r\n",
        "#Change names of the weekdays from numbers to actual names\r\n",
        "conditions2 = [\r\n",
        "    (test['Pos'] == 'SG'),#0\r\n",
        "    (test['Pos'] == 'PF') ,#1\r\n",
        "    (test['Pos']== 'PG') ,#2\r\n",
        "    (test['Pos'] == 'C') ,#3\r\n",
        "    (test['Pos'] == 'SF'),#4\r\n",
        "    (test['Pos'] == 'PF-SF'),#1\r\n",
        "    (test['Pos'] == 'SF-SG'),#4\r\n",
        "    (test['Pos'] == 'SG-PF'),#0\r\n",
        "    (test['Pos'] == 'C-PF'),#3\r\n",
        "    (test['Pos'] == 'SG-SF'),#0\r\n",
        "    (test['Pos'] == 'PF-C'),#1\r\n",
        "    (test['Pos'] == 'SF-C'),#4\r\n",
        "    (test['Pos'] == 'SF-PF'),#4\r\n",
        "    (test['Pos'] == 'PG-SG'),#2\r\n",
        "    (test['Pos'] == 'SG-PG')#0\r\n",
        "\r\n",
        "    ]\r\n",
        "\r\n",
        "## create a list of the values we want to assign for each condition\r\n",
        "#values2 = [1,3,0,4,2,5,6,7,8,6,8,8,7,6,6]\r\n",
        "values2 = [0,1,2,3,4,1,4,0,3,0,1,4,4,2,0]\r\n",
        "\r\n",
        "## create a new column and use np.select to assign values to it using our lists as arguments\r\n",
        "test['Pos1'] = np.select(conditions2, values2)\r\n",
        "\r\n",
        "\r\n",
        "\r\n",
        "\r\n",
        "\r\n"
      ],
      "execution_count": 894,
      "outputs": []
    },
    {
      "cell_type": "code",
      "metadata": {
        "colab": {
          "base_uri": "https://localhost:8080/",
          "height": 206
        },
        "id": "y8kd_tDpAxt5",
        "outputId": "76fb89e8-dbdc-443f-e43d-f92b01cd5670"
      },
      "source": [
        "train = train.drop(['Pos'], axis = 1)\r\n",
        "train.head()"
      ],
      "execution_count": 895,
      "outputs": [
        {
          "output_type": "execute_result",
          "data": {
            "text/html": [
              "<div>\n",
              "<style scoped>\n",
              "    .dataframe tbody tr th:only-of-type {\n",
              "        vertical-align: middle;\n",
              "    }\n",
              "\n",
              "    .dataframe tbody tr th {\n",
              "        vertical-align: top;\n",
              "    }\n",
              "\n",
              "    .dataframe thead th {\n",
              "        text-align: right;\n",
              "    }\n",
              "</style>\n",
              "<table border=\"1\" class=\"dataframe\">\n",
              "  <thead>\n",
              "    <tr style=\"text-align: right;\">\n",
              "      <th></th>\n",
              "      <th>3PP</th>\n",
              "      <th>2PP</th>\n",
              "      <th>FTP</th>\n",
              "      <th>BLK1</th>\n",
              "      <th>TRB1</th>\n",
              "      <th>AST1</th>\n",
              "      <th>DRB1</th>\n",
              "      <th>ORB1</th>\n",
              "      <th>STL1</th>\n",
              "      <th>Pos1</th>\n",
              "    </tr>\n",
              "  </thead>\n",
              "  <tbody>\n",
              "    <tr>\n",
              "      <th>0</th>\n",
              "      <td>0.323</td>\n",
              "      <td>0.500</td>\n",
              "      <td>0.923</td>\n",
              "      <td>0.193548</td>\n",
              "      <td>1.548387</td>\n",
              "      <td>0.645161</td>\n",
              "      <td>1.387097</td>\n",
              "      <td>0.161290</td>\n",
              "      <td>0.548387</td>\n",
              "      <td>0</td>\n",
              "    </tr>\n",
              "    <tr>\n",
              "      <th>2</th>\n",
              "      <td>0.338</td>\n",
              "      <td>0.361</td>\n",
              "      <td>0.778</td>\n",
              "      <td>0.147059</td>\n",
              "      <td>1.764706</td>\n",
              "      <td>1.911765</td>\n",
              "      <td>1.441176</td>\n",
              "      <td>0.323529</td>\n",
              "      <td>0.411765</td>\n",
              "      <td>2</td>\n",
              "    </tr>\n",
              "    <tr>\n",
              "      <th>3</th>\n",
              "      <td>0.000</td>\n",
              "      <td>0.596</td>\n",
              "      <td>0.500</td>\n",
              "      <td>0.950000</td>\n",
              "      <td>9.500000</td>\n",
              "      <td>1.550000</td>\n",
              "      <td>4.612500</td>\n",
              "      <td>4.887500</td>\n",
              "      <td>1.462500</td>\n",
              "      <td>3</td>\n",
              "    </tr>\n",
              "    <tr>\n",
              "      <th>4</th>\n",
              "      <td>0.200</td>\n",
              "      <td>0.588</td>\n",
              "      <td>0.735</td>\n",
              "      <td>0.792683</td>\n",
              "      <td>7.280488</td>\n",
              "      <td>2.243902</td>\n",
              "      <td>5.268293</td>\n",
              "      <td>2.012195</td>\n",
              "      <td>0.865854</td>\n",
              "      <td>3</td>\n",
              "    </tr>\n",
              "    <tr>\n",
              "      <th>7</th>\n",
              "      <td>0.238</td>\n",
              "      <td>0.528</td>\n",
              "      <td>0.847</td>\n",
              "      <td>1.320988</td>\n",
              "      <td>9.185185</td>\n",
              "      <td>2.395062</td>\n",
              "      <td>6.086420</td>\n",
              "      <td>3.098765</td>\n",
              "      <td>0.530864</td>\n",
              "      <td>3</td>\n",
              "    </tr>\n",
              "  </tbody>\n",
              "</table>\n",
              "</div>"
            ],
            "text/plain": [
              "     3PP    2PP    FTP      BLK1      TRB1      AST1      DRB1      ORB1  \\\n",
              "0  0.323  0.500  0.923  0.193548  1.548387  0.645161  1.387097  0.161290   \n",
              "2  0.338  0.361  0.778  0.147059  1.764706  1.911765  1.441176  0.323529   \n",
              "3  0.000  0.596  0.500  0.950000  9.500000  1.550000  4.612500  4.887500   \n",
              "4  0.200  0.588  0.735  0.792683  7.280488  2.243902  5.268293  2.012195   \n",
              "7  0.238  0.528  0.847  1.320988  9.185185  2.395062  6.086420  3.098765   \n",
              "\n",
              "       STL1  Pos1  \n",
              "0  0.548387     0  \n",
              "2  0.411765     2  \n",
              "3  1.462500     3  \n",
              "4  0.865854     3  \n",
              "7  0.530864     3  "
            ]
          },
          "metadata": {
            "tags": []
          },
          "execution_count": 895
        }
      ]
    },
    {
      "cell_type": "code",
      "metadata": {
        "colab": {
          "base_uri": "https://localhost:8080/",
          "height": 206
        },
        "id": "Y5SX4RJf9JL3",
        "outputId": "08f349e9-ec71-4456-eac6-22e951ba2c6b"
      },
      "source": [
        "test = test.drop(['Pos'], axis = 1)\r\n",
        "test.head()\r\n"
      ],
      "execution_count": 896,
      "outputs": [
        {
          "output_type": "execute_result",
          "data": {
            "text/html": [
              "<div>\n",
              "<style scoped>\n",
              "    .dataframe tbody tr th:only-of-type {\n",
              "        vertical-align: middle;\n",
              "    }\n",
              "\n",
              "    .dataframe tbody tr th {\n",
              "        vertical-align: top;\n",
              "    }\n",
              "\n",
              "    .dataframe thead th {\n",
              "        text-align: right;\n",
              "    }\n",
              "</style>\n",
              "<table border=\"1\" class=\"dataframe\">\n",
              "  <thead>\n",
              "    <tr style=\"text-align: right;\">\n",
              "      <th></th>\n",
              "      <th>3PP</th>\n",
              "      <th>2PP</th>\n",
              "      <th>FTP</th>\n",
              "      <th>BLK1</th>\n",
              "      <th>TRB1</th>\n",
              "      <th>AST1</th>\n",
              "      <th>DRB1</th>\n",
              "      <th>ORB1</th>\n",
              "      <th>STL1</th>\n",
              "      <th>Pos1</th>\n",
              "    </tr>\n",
              "  </thead>\n",
              "  <tbody>\n",
              "    <tr>\n",
              "      <th>0</th>\n",
              "      <td>0.333</td>\n",
              "      <td>0.594</td>\n",
              "      <td>0.582</td>\n",
              "      <td>1.063492</td>\n",
              "      <td>9.253968</td>\n",
              "      <td>2.317460</td>\n",
              "      <td>5.968254</td>\n",
              "      <td>3.285714</td>\n",
              "      <td>0.809524</td>\n",
              "      <td>3</td>\n",
              "    </tr>\n",
              "    <tr>\n",
              "      <th>1</th>\n",
              "      <td>0.143</td>\n",
              "      <td>0.564</td>\n",
              "      <td>0.691</td>\n",
              "      <td>1.291667</td>\n",
              "      <td>10.208333</td>\n",
              "      <td>5.111111</td>\n",
              "      <td>7.763889</td>\n",
              "      <td>2.444444</td>\n",
              "      <td>1.138889</td>\n",
              "      <td>1</td>\n",
              "    </tr>\n",
              "    <tr>\n",
              "      <th>2</th>\n",
              "      <td>0.389</td>\n",
              "      <td>0.519</td>\n",
              "      <td>0.827</td>\n",
              "      <td>1.641509</td>\n",
              "      <td>7.396226</td>\n",
              "      <td>2.433962</td>\n",
              "      <td>5.452830</td>\n",
              "      <td>1.943396</td>\n",
              "      <td>0.679245</td>\n",
              "      <td>3</td>\n",
              "    </tr>\n",
              "    <tr>\n",
              "      <th>4</th>\n",
              "      <td>0.346</td>\n",
              "      <td>0.391</td>\n",
              "      <td>0.676</td>\n",
              "      <td>0.170213</td>\n",
              "      <td>1.787234</td>\n",
              "      <td>1.893617</td>\n",
              "      <td>1.595745</td>\n",
              "      <td>0.191489</td>\n",
              "      <td>0.361702</td>\n",
              "      <td>0</td>\n",
              "    </tr>\n",
              "    <tr>\n",
              "      <th>5</th>\n",
              "      <td>0.404</td>\n",
              "      <td>0.545</td>\n",
              "      <td>0.867</td>\n",
              "      <td>0.052632</td>\n",
              "      <td>2.236842</td>\n",
              "      <td>1.368421</td>\n",
              "      <td>2.026316</td>\n",
              "      <td>0.210526</td>\n",
              "      <td>0.263158</td>\n",
              "      <td>0</td>\n",
              "    </tr>\n",
              "  </tbody>\n",
              "</table>\n",
              "</div>"
            ],
            "text/plain": [
              "     3PP    2PP    FTP      BLK1       TRB1      AST1      DRB1      ORB1  \\\n",
              "0  0.333  0.594  0.582  1.063492   9.253968  2.317460  5.968254  3.285714   \n",
              "1  0.143  0.564  0.691  1.291667  10.208333  5.111111  7.763889  2.444444   \n",
              "2  0.389  0.519  0.827  1.641509   7.396226  2.433962  5.452830  1.943396   \n",
              "4  0.346  0.391  0.676  0.170213   1.787234  1.893617  1.595745  0.191489   \n",
              "5  0.404  0.545  0.867  0.052632   2.236842  1.368421  2.026316  0.210526   \n",
              "\n",
              "       STL1  Pos1  \n",
              "0  0.809524     3  \n",
              "1  1.138889     1  \n",
              "2  0.679245     3  \n",
              "4  0.361702     0  \n",
              "5  0.263158     0  "
            ]
          },
          "metadata": {
            "tags": []
          },
          "execution_count": 896
        }
      ]
    },
    {
      "cell_type": "code",
      "metadata": {
        "colab": {
          "base_uri": "https://localhost:8080/",
          "height": 206
        },
        "id": "qM9F-Wxj-n6b",
        "outputId": "b166a02f-c571-4e83-839c-7ad375270480"
      },
      "source": [
        "train_y = train.pop('Pos1')\r\n",
        "test_y = test.pop('Pos1')\r\n",
        "train.head()"
      ],
      "execution_count": 897,
      "outputs": [
        {
          "output_type": "execute_result",
          "data": {
            "text/html": [
              "<div>\n",
              "<style scoped>\n",
              "    .dataframe tbody tr th:only-of-type {\n",
              "        vertical-align: middle;\n",
              "    }\n",
              "\n",
              "    .dataframe tbody tr th {\n",
              "        vertical-align: top;\n",
              "    }\n",
              "\n",
              "    .dataframe thead th {\n",
              "        text-align: right;\n",
              "    }\n",
              "</style>\n",
              "<table border=\"1\" class=\"dataframe\">\n",
              "  <thead>\n",
              "    <tr style=\"text-align: right;\">\n",
              "      <th></th>\n",
              "      <th>3PP</th>\n",
              "      <th>2PP</th>\n",
              "      <th>FTP</th>\n",
              "      <th>BLK1</th>\n",
              "      <th>TRB1</th>\n",
              "      <th>AST1</th>\n",
              "      <th>DRB1</th>\n",
              "      <th>ORB1</th>\n",
              "      <th>STL1</th>\n",
              "    </tr>\n",
              "  </thead>\n",
              "  <tbody>\n",
              "    <tr>\n",
              "      <th>0</th>\n",
              "      <td>0.323</td>\n",
              "      <td>0.500</td>\n",
              "      <td>0.923</td>\n",
              "      <td>0.193548</td>\n",
              "      <td>1.548387</td>\n",
              "      <td>0.645161</td>\n",
              "      <td>1.387097</td>\n",
              "      <td>0.161290</td>\n",
              "      <td>0.548387</td>\n",
              "    </tr>\n",
              "    <tr>\n",
              "      <th>2</th>\n",
              "      <td>0.338</td>\n",
              "      <td>0.361</td>\n",
              "      <td>0.778</td>\n",
              "      <td>0.147059</td>\n",
              "      <td>1.764706</td>\n",
              "      <td>1.911765</td>\n",
              "      <td>1.441176</td>\n",
              "      <td>0.323529</td>\n",
              "      <td>0.411765</td>\n",
              "    </tr>\n",
              "    <tr>\n",
              "      <th>3</th>\n",
              "      <td>0.000</td>\n",
              "      <td>0.596</td>\n",
              "      <td>0.500</td>\n",
              "      <td>0.950000</td>\n",
              "      <td>9.500000</td>\n",
              "      <td>1.550000</td>\n",
              "      <td>4.612500</td>\n",
              "      <td>4.887500</td>\n",
              "      <td>1.462500</td>\n",
              "    </tr>\n",
              "    <tr>\n",
              "      <th>4</th>\n",
              "      <td>0.200</td>\n",
              "      <td>0.588</td>\n",
              "      <td>0.735</td>\n",
              "      <td>0.792683</td>\n",
              "      <td>7.280488</td>\n",
              "      <td>2.243902</td>\n",
              "      <td>5.268293</td>\n",
              "      <td>2.012195</td>\n",
              "      <td>0.865854</td>\n",
              "    </tr>\n",
              "    <tr>\n",
              "      <th>7</th>\n",
              "      <td>0.238</td>\n",
              "      <td>0.528</td>\n",
              "      <td>0.847</td>\n",
              "      <td>1.320988</td>\n",
              "      <td>9.185185</td>\n",
              "      <td>2.395062</td>\n",
              "      <td>6.086420</td>\n",
              "      <td>3.098765</td>\n",
              "      <td>0.530864</td>\n",
              "    </tr>\n",
              "  </tbody>\n",
              "</table>\n",
              "</div>"
            ],
            "text/plain": [
              "     3PP    2PP    FTP      BLK1      TRB1      AST1      DRB1      ORB1  \\\n",
              "0  0.323  0.500  0.923  0.193548  1.548387  0.645161  1.387097  0.161290   \n",
              "2  0.338  0.361  0.778  0.147059  1.764706  1.911765  1.441176  0.323529   \n",
              "3  0.000  0.596  0.500  0.950000  9.500000  1.550000  4.612500  4.887500   \n",
              "4  0.200  0.588  0.735  0.792683  7.280488  2.243902  5.268293  2.012195   \n",
              "7  0.238  0.528  0.847  1.320988  9.185185  2.395062  6.086420  3.098765   \n",
              "\n",
              "       STL1  \n",
              "0  0.548387  \n",
              "2  0.411765  \n",
              "3  1.462500  \n",
              "4  0.865854  \n",
              "7  0.530864  "
            ]
          },
          "metadata": {
            "tags": []
          },
          "execution_count": 897
        }
      ]
    },
    {
      "cell_type": "code",
      "metadata": {
        "colab": {
          "base_uri": "https://localhost:8080/"
        },
        "id": "1LVvUTHqIXeu",
        "outputId": "90ecb4da-3b62-467b-88c2-0e49b797a241"
      },
      "source": [
        "print(train_y.unique())\r\n",
        "print(test_y.unique())\r\n",
        "print('train',train.isnull().sum())\r\n",
        "print(test.isnull().sum())"
      ],
      "execution_count": 898,
      "outputs": [
        {
          "output_type": "stream",
          "text": [
            "[0 2 3 1 4]\n",
            "[3 1 0 4 2]\n",
            "train 3PP     0\n",
            "2PP     0\n",
            "FTP     0\n",
            "BLK1    0\n",
            "TRB1    0\n",
            "AST1    0\n",
            "DRB1    0\n",
            "ORB1    0\n",
            "STL1    0\n",
            "dtype: int64\n",
            "3PP     0\n",
            "2PP     0\n",
            "FTP     0\n",
            "BLK1    0\n",
            "TRB1    0\n",
            "AST1    0\n",
            "DRB1    0\n",
            "ORB1    0\n",
            "STL1    0\n",
            "dtype: int64\n"
          ],
          "name": "stdout"
        }
      ]
    },
    {
      "cell_type": "code",
      "metadata": {
        "id": "XWu8sXy5A6dT"
      },
      "source": [
        "def input_fn(features, labels, training=True, batch_size=256):\r\n",
        "    # Convert the inputs to a Dataset.\r\n",
        "    dataset = tf.data.Dataset.from_tensor_slices((dict(features), labels))\r\n",
        "\r\n",
        "    # Shuffle and repeat if you are in training mode.\r\n",
        "    if training:\r\n",
        "        dataset = dataset.shuffle(1000).repeat()\r\n",
        "    \r\n",
        "    return dataset.batch(batch_size)\r\n",
        " "
      ],
      "execution_count": 899,
      "outputs": []
    },
    {
      "cell_type": "code",
      "metadata": {
        "id": "8TV4zvx4BPAt"
      },
      "source": [
        "# Feature columns describe how to use the input.\r\n",
        "my_feature_columns = []\r\n",
        "for key in train.keys():\r\n",
        "    my_feature_columns.append(tf.feature_column.numeric_column(key=key))  "
      ],
      "execution_count": 900,
      "outputs": []
    },
    {
      "cell_type": "code",
      "metadata": {
        "colab": {
          "base_uri": "https://localhost:8080/"
        },
        "id": "Ml2c6SrCBUqN",
        "outputId": "b1ecb3f1-35cb-41fe-e5cc-f1213c73d9e0"
      },
      "source": [
        "# Build a DNN with 2 hidden layers with 30 and 10 hidden nodes each.\r\n",
        "classifier = tf.estimator.DNNClassifier(\r\n",
        "    feature_columns=my_feature_columns,\r\n",
        "    # Two hidden layers of 30 and 10 nodes respectively.\r\n",
        "    hidden_units=[30, 10],\r\n",
        "    # The model must choose between 9 classes.\r\n",
        "    n_classes=9)"
      ],
      "execution_count": 901,
      "outputs": [
        {
          "output_type": "stream",
          "text": [
            "INFO:tensorflow:Using default config.\n",
            "WARNING:tensorflow:Using temporary folder as model directory: /tmp/tmprlvyu1xf\n",
            "INFO:tensorflow:Using config: {'_model_dir': '/tmp/tmprlvyu1xf', '_tf_random_seed': None, '_save_summary_steps': 100, '_save_checkpoints_steps': None, '_save_checkpoints_secs': 600, '_session_config': allow_soft_placement: true\n",
            "graph_options {\n",
            "  rewrite_options {\n",
            "    meta_optimizer_iterations: ONE\n",
            "  }\n",
            "}\n",
            ", '_keep_checkpoint_max': 5, '_keep_checkpoint_every_n_hours': 10000, '_log_step_count_steps': 100, '_train_distribute': None, '_device_fn': None, '_protocol': None, '_eval_distribute': None, '_experimental_distribute': None, '_experimental_max_worker_delay_secs': None, '_session_creation_timeout_secs': 7200, '_checkpoint_save_graph_def': True, '_service': None, '_cluster_spec': ClusterSpec({}), '_task_type': 'worker', '_task_id': 0, '_global_id_in_cluster': 0, '_master': '', '_evaluation_master': '', '_is_chief': True, '_num_ps_replicas': 0, '_num_worker_replicas': 1}\n"
          ],
          "name": "stdout"
        }
      ]
    },
    {
      "cell_type": "code",
      "metadata": {
        "colab": {
          "base_uri": "https://localhost:8080/"
        },
        "id": "U3_d2bxKKwJW",
        "outputId": "af507f1b-ba0d-45c8-ea21-6051d90f4f3a"
      },
      "source": [
        "classifier.train(\r\n",
        "    input_fn=lambda: input_fn(train, train_y, training=True),\r\n",
        "    steps=5000)\r\n",
        "# We include a lambda to avoid creating an inner function previously "
      ],
      "execution_count": 902,
      "outputs": [
        {
          "output_type": "stream",
          "text": [
            "INFO:tensorflow:Calling model_fn.\n",
            "INFO:tensorflow:Done calling model_fn.\n",
            "INFO:tensorflow:Create CheckpointSaverHook.\n",
            "INFO:tensorflow:Graph was finalized.\n",
            "INFO:tensorflow:Running local_init_op.\n",
            "INFO:tensorflow:Done running local_init_op.\n",
            "INFO:tensorflow:Calling checkpoint listeners before saving checkpoint 0...\n",
            "INFO:tensorflow:Saving checkpoints for 0 into /tmp/tmprlvyu1xf/model.ckpt.\n",
            "INFO:tensorflow:Calling checkpoint listeners after saving checkpoint 0...\n",
            "INFO:tensorflow:loss = 2.4486256, step = 0\n",
            "INFO:tensorflow:global_step/sec: 224.51\n",
            "INFO:tensorflow:loss = 2.191092, step = 100 (0.451 sec)\n",
            "INFO:tensorflow:global_step/sec: 298.697\n",
            "INFO:tensorflow:loss = 2.1781127, step = 200 (0.331 sec)\n",
            "INFO:tensorflow:global_step/sec: 278.144\n",
            "INFO:tensorflow:loss = 2.1769726, step = 300 (0.359 sec)\n",
            "INFO:tensorflow:global_step/sec: 299.023\n",
            "INFO:tensorflow:loss = 2.1686215, step = 400 (0.334 sec)\n",
            "INFO:tensorflow:global_step/sec: 266.131\n",
            "INFO:tensorflow:loss = 2.1670964, step = 500 (0.377 sec)\n",
            "INFO:tensorflow:global_step/sec: 278.501\n",
            "INFO:tensorflow:loss = 2.1588075, step = 600 (0.358 sec)\n",
            "INFO:tensorflow:global_step/sec: 300.046\n",
            "INFO:tensorflow:loss = 2.148696, step = 700 (0.334 sec)\n",
            "INFO:tensorflow:global_step/sec: 307.795\n",
            "INFO:tensorflow:loss = 2.145377, step = 800 (0.325 sec)\n",
            "INFO:tensorflow:global_step/sec: 301.619\n",
            "INFO:tensorflow:loss = 2.144391, step = 900 (0.332 sec)\n",
            "INFO:tensorflow:global_step/sec: 290.204\n",
            "INFO:tensorflow:loss = 2.1382778, step = 1000 (0.346 sec)\n",
            "INFO:tensorflow:global_step/sec: 311.683\n",
            "INFO:tensorflow:loss = 2.1095133, step = 1100 (0.319 sec)\n",
            "INFO:tensorflow:global_step/sec: 284.498\n",
            "INFO:tensorflow:loss = 2.1160173, step = 1200 (0.355 sec)\n",
            "INFO:tensorflow:global_step/sec: 292.003\n",
            "INFO:tensorflow:loss = 2.111536, step = 1300 (0.339 sec)\n",
            "INFO:tensorflow:global_step/sec: 291.413\n",
            "INFO:tensorflow:loss = 2.106169, step = 1400 (0.343 sec)\n",
            "INFO:tensorflow:global_step/sec: 276.249\n",
            "INFO:tensorflow:loss = 2.0939078, step = 1500 (0.362 sec)\n",
            "INFO:tensorflow:global_step/sec: 276.947\n",
            "INFO:tensorflow:loss = 2.0920706, step = 1600 (0.361 sec)\n",
            "INFO:tensorflow:global_step/sec: 273.855\n",
            "INFO:tensorflow:loss = 2.0852704, step = 1700 (0.366 sec)\n",
            "INFO:tensorflow:global_step/sec: 283.169\n",
            "INFO:tensorflow:loss = 2.0762534, step = 1800 (0.357 sec)\n",
            "INFO:tensorflow:global_step/sec: 265.738\n",
            "INFO:tensorflow:loss = 2.0772147, step = 1900 (0.376 sec)\n",
            "INFO:tensorflow:global_step/sec: 263.379\n",
            "INFO:tensorflow:loss = 2.0604537, step = 2000 (0.376 sec)\n",
            "INFO:tensorflow:global_step/sec: 282.831\n",
            "INFO:tensorflow:loss = 2.0469823, step = 2100 (0.358 sec)\n",
            "INFO:tensorflow:global_step/sec: 278.127\n",
            "INFO:tensorflow:loss = 2.0377285, step = 2200 (0.355 sec)\n",
            "INFO:tensorflow:global_step/sec: 280.092\n",
            "INFO:tensorflow:loss = 2.0605805, step = 2300 (0.360 sec)\n",
            "INFO:tensorflow:global_step/sec: 278.399\n",
            "INFO:tensorflow:loss = 2.048455, step = 2400 (0.359 sec)\n",
            "INFO:tensorflow:global_step/sec: 277.826\n",
            "INFO:tensorflow:loss = 2.0525122, step = 2500 (0.359 sec)\n",
            "INFO:tensorflow:global_step/sec: 273.438\n",
            "INFO:tensorflow:loss = 2.045665, step = 2600 (0.369 sec)\n",
            "INFO:tensorflow:global_step/sec: 295.17\n",
            "INFO:tensorflow:loss = 2.0230982, step = 2700 (0.333 sec)\n",
            "INFO:tensorflow:global_step/sec: 268.935\n",
            "INFO:tensorflow:loss = 1.9959645, step = 2800 (0.371 sec)\n",
            "INFO:tensorflow:global_step/sec: 260.483\n",
            "INFO:tensorflow:loss = 2.0025015, step = 2900 (0.386 sec)\n",
            "INFO:tensorflow:global_step/sec: 296.034\n",
            "INFO:tensorflow:loss = 1.9957864, step = 3000 (0.339 sec)\n",
            "INFO:tensorflow:global_step/sec: 293.962\n",
            "INFO:tensorflow:loss = 1.9918313, step = 3100 (0.338 sec)\n",
            "INFO:tensorflow:global_step/sec: 265.344\n",
            "INFO:tensorflow:loss = 1.95508, step = 3200 (0.380 sec)\n",
            "INFO:tensorflow:global_step/sec: 262.706\n",
            "INFO:tensorflow:loss = 1.9388896, step = 3300 (0.378 sec)\n",
            "INFO:tensorflow:global_step/sec: 250.14\n",
            "INFO:tensorflow:loss = 1.9977331, step = 3400 (0.403 sec)\n",
            "INFO:tensorflow:global_step/sec: 276.737\n",
            "INFO:tensorflow:loss = 2.0076683, step = 3500 (0.357 sec)\n",
            "INFO:tensorflow:global_step/sec: 263.724\n",
            "INFO:tensorflow:loss = 1.9819672, step = 3600 (0.382 sec)\n",
            "INFO:tensorflow:global_step/sec: 277.383\n",
            "INFO:tensorflow:loss = 2.0088363, step = 3700 (0.358 sec)\n",
            "INFO:tensorflow:global_step/sec: 282.807\n",
            "INFO:tensorflow:loss = 1.9667444, step = 3800 (0.359 sec)\n",
            "INFO:tensorflow:global_step/sec: 283.558\n",
            "INFO:tensorflow:loss = 1.9707, step = 3900 (0.348 sec)\n",
            "INFO:tensorflow:global_step/sec: 284.061\n",
            "INFO:tensorflow:loss = 1.9690123, step = 4000 (0.351 sec)\n",
            "INFO:tensorflow:global_step/sec: 311.864\n",
            "INFO:tensorflow:loss = 1.9299529, step = 4100 (0.323 sec)\n",
            "INFO:tensorflow:global_step/sec: 275.1\n",
            "INFO:tensorflow:loss = 1.9336336, step = 4200 (0.363 sec)\n",
            "INFO:tensorflow:global_step/sec: 293.789\n",
            "INFO:tensorflow:loss = 1.9153345, step = 4300 (0.342 sec)\n",
            "INFO:tensorflow:global_step/sec: 284.076\n",
            "INFO:tensorflow:loss = 1.8855422, step = 4400 (0.348 sec)\n",
            "INFO:tensorflow:global_step/sec: 285.054\n",
            "INFO:tensorflow:loss = 1.9493682, step = 4500 (0.352 sec)\n",
            "INFO:tensorflow:global_step/sec: 273.372\n",
            "INFO:tensorflow:loss = 1.9724646, step = 4600 (0.370 sec)\n",
            "INFO:tensorflow:global_step/sec: 251.636\n",
            "INFO:tensorflow:loss = 1.9452071, step = 4700 (0.392 sec)\n",
            "INFO:tensorflow:global_step/sec: 282.036\n",
            "INFO:tensorflow:loss = 1.9531286, step = 4800 (0.356 sec)\n",
            "INFO:tensorflow:global_step/sec: 297.789\n",
            "INFO:tensorflow:loss = 1.9237432, step = 4900 (0.334 sec)\n",
            "INFO:tensorflow:Calling checkpoint listeners before saving checkpoint 5000...\n",
            "INFO:tensorflow:Saving checkpoints for 5000 into /tmp/tmprlvyu1xf/model.ckpt.\n",
            "INFO:tensorflow:Calling checkpoint listeners after saving checkpoint 5000...\n",
            "INFO:tensorflow:Loss for final step: 1.9181762.\n"
          ],
          "name": "stdout"
        },
        {
          "output_type": "execute_result",
          "data": {
            "text/plain": [
              "<tensorflow_estimator.python.estimator.canned.dnn.DNNClassifierV2 at 0x7f4c39dd24e0>"
            ]
          },
          "metadata": {
            "tags": []
          },
          "execution_count": 902
        }
      ]
    },
    {
      "cell_type": "code",
      "metadata": {
        "id": "fn4ZMRylOI8T",
        "colab": {
          "base_uri": "https://localhost:8080/"
        },
        "outputId": "59b798d4-e46d-47d5-f928-154ecc44fcd8"
      },
      "source": [
        "eval_result = classifier.evaluate(\r\n",
        "    input_fn=lambda: input_fn(test, test_y, training=False))\r\n",
        "\r\n",
        "print('\\nTest set accuracy: {accuracy:0.3f}\\n'.format(**eval_result))"
      ],
      "execution_count": 903,
      "outputs": [
        {
          "output_type": "stream",
          "text": [
            "INFO:tensorflow:Calling model_fn.\n",
            "INFO:tensorflow:Done calling model_fn.\n",
            "INFO:tensorflow:Starting evaluation at 2021-01-19T06:23:23Z\n",
            "INFO:tensorflow:Graph was finalized.\n",
            "INFO:tensorflow:Restoring parameters from /tmp/tmprlvyu1xf/model.ckpt-5000\n",
            "INFO:tensorflow:Running local_init_op.\n",
            "INFO:tensorflow:Done running local_init_op.\n",
            "INFO:tensorflow:Inference Time : 0.29765s\n",
            "INFO:tensorflow:Finished evaluation at 2021-01-19-06:23:24\n",
            "INFO:tensorflow:Saving dict for global step 5000: accuracy = 0.44622424, average_loss = 1.6277769, global_step = 5000, loss = 1.6208911\n",
            "INFO:tensorflow:Saving 'checkpoint_path' summary for global step 5000: /tmp/tmprlvyu1xf/model.ckpt-5000\n",
            "\n",
            "Test set accuracy: 0.446\n",
            "\n"
          ],
          "name": "stdout"
        }
      ]
    },
    {
      "cell_type": "code",
      "metadata": {
        "id": "e7kjw81g4VVb"
      },
      "source": [
        ""
      ],
      "execution_count": 903,
      "outputs": []
    }
  ]
}